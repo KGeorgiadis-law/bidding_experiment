{
 "cells": [
  {
   "cell_type": "markdown",
   "metadata": {},
   "source": [
    "#!py 3.5.1\n",
    "\n",
    "#! coding: utf-8\n",
    "\n",
    "A short experiment to create a system where two bidders can enter their values, and see if they are the same or fall within a specified margin.\n",
    "\n",
    "Instructions received:\n",
    "\n",
    "\"Its just a system where each side can post a number (being their bid in pounds) and **whenever both the latest bids from each side  come within a preferred margin say 10%, or overlap, an agreement is declared at the midpoint** or, if overlap, lower or higher figure (matter fo policy). No complicated  maths involved.\""
   ]
  },
  {
   "cell_type": "code",
   "execution_count": 7,
   "metadata": {
    "collapsed": false
   },
   "outputs": [],
   "source": [
    "# idea one:\n",
    "# have 2 bidders and simply compare the values they give\n",
    "\n",
    "# find the difference between the two numbers, and see if that difference is equal or less than 10% of the highest/lowest number\n",
    "def bidding(first_bid, second_bid, rate_number):\n",
    "\n",
    "    #here the programmer can explicitly convert the numbers to floats, though I am not sure this is useful.\n",
    "    bid1 = first_bid\n",
    "    bid2 = second_bid\n",
    "\n",
    "    # first check whether the two bids actually match. If they do, simply print out a message that the bids are the same.\n",
    "    if bid1 == bid2:\n",
    "        #print(\"The bids match!\")\n",
    "        return(\"The bids match!\")\n",
    "    # if this is not the case, try to determine whether the bids are within the rate given of each other\n",
    "    else:\n",
    "        # find the larger number of the two by comparing them (ternary operator used here for brevity/readability) \n",
    "        larger_number = bid1  if bid1>bid2 else bid2\n",
    "        # same process, but with the smaller one\n",
    "        smaller_number  = bid1 if bid1<bid2 else bid2\n",
    "        # does the same, but with the bidder name\n",
    "        larger_bidder = \"Bidder 1\" if bid1>bid2 else \"Bidder 2\"\n",
    "        smaller_bidder = \"Bidder 1\" if bid1<bid2 else \"Bidder 2\"\n",
    "\n",
    "        print(\"The larger bid is {}, the smaller bid is {}. The larger bidder is {}\"\n",
    "            .format(larger_number, smaller_number, larger_bidder))\n",
    "\n",
    "        rate = float(rate_number/ 100)\n",
    "\n",
    "        #check if within margin\n",
    "        margin = larger_number - (larger_number * rate)\n",
    "\n",
    "        if margin < smaller_number:\n",
    "            result = \"The margin (within {}%) is that the smaller bid (£{}) should be higher than £{}. This is true, so there is agreement.\".format(rate * 100, smaller_number, margin)\n",
    "            #print(result)\n",
    "            return result\n",
    "        else:\n",
    "            result = \"The margin (within {}%) is that the smaller bid (£{}) should be higher than £{}. This is false, therefore there is no agreement.\".format(rate * 100, smaller_number, margin)\n",
    "            #print(result)\n",
    "            return result"
   ]
  },
  {
   "cell_type": "code",
   "execution_count": 8,
   "metadata": {
    "collapsed": false
   },
   "outputs": [
    {
     "name": "stdout",
     "output_type": "stream",
     "text": [
      "Party 1: Please insert your value: £156\n",
      "Party 2: Please insert your value: £156\n",
      "The bids match!\n"
     ]
    }
   ],
   "source": [
    "first_bid = float(input(\"Party 1: Please insert your value: £\"))\n",
    "second_bid = float(input(\"Party 2: Please insert your value: £\"))\n",
    "rate = 10\n",
    "\n",
    "print(bidding(first_bid, second_bid, rate))"
   ]
  },
  {
   "cell_type": "code",
   "execution_count": 9,
   "metadata": {
    "collapsed": false
   },
   "outputs": [
    {
     "name": "stdout",
     "output_type": "stream",
     "text": [
      "Party 1: Please insert your value: £135\n",
      "Party 2: Please insert your value: £186\n",
      "The larger bid is 186.0, the smaller bid is 135.0. The larger bidder is Bidder 2\n",
      "The margin (within 10.0%) is that the smaller bid (£135.0) should be higher than £167.4. This is false, therefore there is no agreement.\n"
     ]
    }
   ],
   "source": [
    "first_bid = float(input(\"Party 1: Please insert your value: £\"))\n",
    "second_bid = float(input(\"Party 2: Please insert your value: £\"))\n",
    "rate = 10\n",
    "\n",
    "print(bidding(first_bid, second_bid, rate))"
   ]
  },
  {
   "cell_type": "code",
   "execution_count": 10,
   "metadata": {
    "collapsed": false
   },
   "outputs": [
    {
     "name": "stdout",
     "output_type": "stream",
     "text": [
      "Party 1: Please insert your value: £198\n",
      "Party 2: Please insert your value: £160\n",
      "The larger bid is 198.0, the smaller bid is 160.0. The larger bidder is Bidder 1\n",
      "The margin is that the smaller bid (£160.0) should be higher than £138.6. This is true, so there is agreement.\n"
     ]
    }
   ],
   "source": [
    "first_bid = float(input(\"Party 1: Please insert your value: £\"))\n",
    "second_bid = float(input(\"Party 2: Please insert your value: £\"))\n",
    "rate = 30\n",
    "\n",
    "print(bidding(first_bid, second_bid, rate))"
   ]
  }
 ],
 "metadata": {
  "anaconda-cloud": {},
  "kernelspec": {
   "display_name": "Python [default]",
   "language": "python",
   "name": "python3"
  },
  "language_info": {
   "codemirror_mode": {
    "name": "ipython",
    "version": 3
   },
   "file_extension": ".py",
   "mimetype": "text/x-python",
   "name": "python",
   "nbconvert_exporter": "python",
   "pygments_lexer": "ipython3",
   "version": "3.5.2"
  }
 },
 "nbformat": 4,
 "nbformat_minor": 1
}
