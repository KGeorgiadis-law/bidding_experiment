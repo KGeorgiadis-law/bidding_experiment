{
 "cells": [
  {
   "cell_type": "markdown",
   "metadata": {},
   "source": [
    "#!py 3.5.1\n",
    "\n",
    "#! coding: utf-8\n",
    "\n",
    "A short experiment to create a system where two bidders can enter their values, and see if they are the same or fall within a specified margin.\n",
    "\n",
    "Instructions received:\n",
    "\n",
    "\"Its just a system where each side can post a number (being their bid in pounds) and **whenever both the latest bids from each side  come within a preferred margin say 10%, or overlap, an agreement is declared at the midpoint** or, if overlap, lower or higher figure (matter fo policy). No complicated  maths involved.\""
   ]
  },
  {
   "cell_type": "code",
   "execution_count": 1,
   "metadata": {
    "collapsed": false
   },
   "outputs": [
    {
     "ename": "SyntaxError",
     "evalue": "unexpected EOF while parsing (<ipython-input-1-892b78802dca>, line 1)",
     "output_type": "error",
     "traceback": [
      "\u001b[0;36m  File \u001b[0;32m\"<ipython-input-1-892b78802dca>\"\u001b[0;36m, line \u001b[0;32m1\u001b[0m\n\u001b[0;31m    while True:\u001b[0m\n\u001b[0m               ^\u001b[0m\n\u001b[0;31mSyntaxError\u001b[0m\u001b[0;31m:\u001b[0m unexpected EOF while parsing\n"
     ]
    }
   ],
   "source": [
    "#while True:"
   ]
  },
  {
   "cell_type": "code",
   "execution_count": null,
   "metadata": {
    "collapsed": false
   },
   "outputs": [],
   "source": [
    "# idea one:\n",
    "# have 2 bidders and simply compare the values they give\n",
    "\n",
    "# find the difference between the two numbers, and see if that difference is equal or less than 10% of the highest/lowest number\n",
    "def bidding(first_bid, second_bid, rate_number):\n",
    "\n",
    "    bid1 = first_bid\n",
    "    bid2 = second_bid\n",
    "\n",
    "    if bid1 != bid2:\n",
    "        larger_number = bid1  if bid1>bid2 else bid2\n",
    "        smaller_number  = bid1 if bid1<bid2 else bid2\n",
    "        larger_bidder = \"Bidder 1\" if bid1>bid2 else \"Bidder 2\"\n",
    "        smaller_bidder = \"Bidder 1\" if bid1<bid2 else \"Bidder 2\"\n",
    "\n",
    "        print(\"The larger bid is {}, the smaller bid is {}. The larger bidder is {}\"\n",
    "            .format(larger_number, smaller_number, larger_bidder))\n",
    "\n",
    "        rate = float(rate_number/ 100)\n",
    "\n",
    "        #check if within margin\n",
    "        margin = larger_number - (larger_number * rate)\n",
    "\n",
    "        if margin < smaller_number:\n",
    "            result = \"The margin is that the smaller bid (£{}) should be higher than £{}. This is true, so there is agreement.\".format(smaller_number, margin)\n",
    "            print(result)\n",
    "            return result\n",
    "        else:\n",
    "            result = \"The margin (within {}%) is that the smaller bid (£{}) should be higher than £{}. This is false.\".format(rate * 100, smaller_number, margin)\n",
    "            print(result)\n",
    "            return result\n",
    "    else:\n",
    "        print(\"The numbers match!\")\n",
    "\n",
    "\n",
    "first_bid = float(input(\"Party 1: Please insert your value: £\"))\n",
    "second_bid = float(input(\"Party 2: Please insert your value: £\"))\n",
    "rate = 10\n",
    "\n",
    "bidding(first_bid, second_bid, rate)"
   ]
  }
 ],
 "metadata": {
  "anaconda-cloud": {},
  "kernelspec": {
   "display_name": "Python [default]",
   "language": "python",
   "name": "python3"
  },
  "language_info": {
   "codemirror_mode": {
    "name": "ipython",
    "version": 3
   },
   "file_extension": ".py",
   "mimetype": "text/x-python",
   "name": "python",
   "nbconvert_exporter": "python",
   "pygments_lexer": "ipython3",
   "version": "3.5.2"
  }
 },
 "nbformat": 4,
 "nbformat_minor": 1
}
