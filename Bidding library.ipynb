{
 "cells": [
  {
   "cell_type": "markdown",
   "metadata": {},
   "source": [
    "#!py 3.5.1\n",
    "\n",
    "\n",
    "\n",
    "\"Its just a system where each side can post a number (being their bid in pounds) and **whenever both the latest bids from each side  come within a preferred margin say 10%, or overlap, an agreement is declared at the midpoint** or, if overlap, lower or higher figure (matter fo policy). No complicated  maths involved.\""
   ]
  },
  {
   "cell_type": "code",
   "execution_count": null,
   "metadata": {
    "collapsed": false
   },
   "outputs": [
    {
     "name": "stdout",
     "output_type": "stream",
     "text": [
      "Party 1: Please insert your value: £153\n",
      "Party 2: Please insert your value: £2136\n",
      "The larger number is 2136.0, the smaller number is 153.0. The larger bidder is bidder 2\n",
      "The margin (within 10.0%) is that the smaller bid (£153.0) should be higher than £1922.4. This is false.\n",
      "Party 1: Please insert your value: £213\n",
      "Party 2: Please insert your value: £153\n",
      "The larger number is 213.0, the smaller number is 153.0. The larger bidder is bidder 1\n",
      "The margin (within 10.0%) is that the smaller bid (£153.0) should be higher than £191.7. This is false.\n"
     ]
    }
   ],
   "source": [
    "# idea one:\n",
    "# have 2 bidders and simply compare the values they give\n",
    "\n",
    "# find the difference between the two numbers, and see if that difference is equal or less than 10% of the highest/lowest number\n",
    "while True:\n",
    "    bid1 = float(input(\"Party 1: Please insert your value: £\"))\n",
    "    bid2 = float(input(\"Party 2: Please insert your value: £\"))\n",
    "\n",
    "    # preferred_margin = 10 / 100\n",
    "    # margin = bid1 * 10 / 100\n",
    "    # margin_below = bid1 - margin \n",
    "    # margin_above = bid1 + margin\n",
    "    if bid1 != bid2:\n",
    "        larger_number = bid1  if bid1>bid2 else bid2\n",
    "        smaller_number  = bid1 if bid1<bid2 else bid2\n",
    "        larger_bidder = \"bidder 1\" if bid1>bid2 else \"bidder 2\"\n",
    "        smaller_bidder = \"bidder 1\" if bid1<bid2 else \"bidder 2\"\n",
    "\n",
    "\n",
    "        print(\"The larger number is {}, the smaller number is {}. The larger bidder is {}\"\n",
    "            .format(larger_number, smaller_number, larger_bidder))\n",
    "\n",
    "        rate = float(10 / 100)\n",
    "\n",
    "        #check if within margin\n",
    "        margin = larger_number - (larger_number * rate)\n",
    "\n",
    "        if margin < smaller_number:\n",
    "            print(\"The margin is that the smaller bid (£{}) should be higher than £{}. This is true.\".format(smaller_number, margin))\n",
    "        else:\n",
    "            print(\"The margin (within {}%) is that the smaller bid (£{}) should be higher than £{}. This is false.\"\n",
    "                  .format(rate * 100, smaller_number, margin))\n",
    "    else:\n",
    "        print(\"The numbers match!\")"
   ]
  },
  {
   "cell_type": "code",
   "execution_count": null,
   "metadata": {
    "collapsed": false
   },
   "outputs": [],
   "source": [
    "rate = float(10 / 100)\n",
    "\n",
    "#check if within margin\n",
    "margin = larger_number - (larger_number * rate)\n",
    "\n",
    "if margin < smaller_number:\n",
    "    print(\"The margin is that the smaller bid (£{}) should be higher than £{}. This is true.\".format(smaller_number, margin))\n",
    "else:\n",
    "    print(\"The margin is that the smaller bid (£{}) should be higher than £{}. This is false.\".format(smaller_number, margin))"
   ]
  }
 ],
 "metadata": {
  "anaconda-cloud": {},
  "kernelspec": {
   "display_name": "Python [default]",
   "language": "python",
   "name": "python3"
  },
  "language_info": {
   "codemirror_mode": {
    "name": "ipython",
    "version": 3
   },
   "file_extension": ".py",
   "mimetype": "text/x-python",
   "name": "python",
   "nbconvert_exporter": "python",
   "pygments_lexer": "ipython3",
   "version": "3.5.2"
  }
 },
 "nbformat": 4,
 "nbformat_minor": 1
}
